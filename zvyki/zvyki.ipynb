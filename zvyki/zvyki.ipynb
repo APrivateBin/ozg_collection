{
 "cells": [
  {
   "cell_type": "markdown",
   "metadata": {},
   "source": [
    "Import the libraries."
   ]
  },
  {
   "cell_type": "code",
   "execution_count": 1,
   "metadata": {},
   "outputs": [],
   "source": [
    "import pandas as pd\n",
    "from bs4 import BeautifulSoup"
   ]
  },
  {
   "cell_type": "markdown",
   "metadata": {},
   "source": [
    "Load the function."
   ]
  },
  {
   "cell_type": "code",
   "execution_count": 2,
   "metadata": {},
   "outputs": [],
   "source": [
    "def getInfo(song):\n",
    "    '''\n",
    "    extract information from the html block of a song\n",
    "\n",
    "    Parameters\n",
    "    ----------\n",
    "    song : bs4.element\n",
    "        html block of a song\n",
    "\n",
    "    Returns\n",
    "    ----------\n",
    "    dataId : str\n",
    "        data-id of the song\n",
    "    dataLyricsId : str\n",
    "        data-lyrics-id of the song\n",
    "    link : str\n",
    "        download link to the mp3 file\n",
    "    linkPage : str\n",
    "        link to the song's webpage on zvyki\n",
    "    lyrics : str\n",
    "        lyrics of the song\n",
    "    title : str\n",
    "        title of the song\n",
    "    time : str\n",
    "        time of the song\n",
    "\n",
    "    '''\n",
    "    dataId=song.get('data-id')\n",
    "    dataLyricsId=song.get('data-lyrics-id')\n",
    "    link=song.get('data-mp3')\n",
    "    linkPageRaw=song.find('div',class_='playlist-title').find('a').get('href')\n",
    "    linkPage='zvyki.com'+linkPageRaw\n",
    "    lyricsRaw=song.find('div',class_='playlist-lyrics')\n",
    "    if lyricsRaw is None:\n",
    "        lyrics=''\n",
    "    else:\n",
    "        lyrics=lyricsRaw.text\n",
    "    title=song.find('span',class_='ctitle').text\n",
    "    timeRaw=song.find('em').find_all('a')[-1].next_sibling\n",
    "    if timeRaw is None:\n",
    "        time=''\n",
    "    else:\n",
    "        time=timeRaw.text.replace('\\t','').replace('\\n','')\n",
    "    return dataId,dataLyricsId,link, linkPage,lyrics, title, time"
   ]
  },
  {
   "cell_type": "markdown",
   "metadata": {},
   "source": [
    "Initialize the list."
   ]
  },
  {
   "cell_type": "code",
   "execution_count": 3,
   "metadata": {},
   "outputs": [],
   "source": [
    "dataIdList=[]\n",
    "dataLyricsIdList=[]\n",
    "linkList=[]\n",
    "linkPageList=[]\n",
    "lyricsList=[]\n",
    "titleList=[]\n",
    "timeList=[]"
   ]
  },
  {
   "cell_type": "markdown",
   "metadata": {},
   "source": [
    "Load the data."
   ]
  },
  {
   "cell_type": "code",
   "execution_count": 4,
   "metadata": {},
   "outputs": [],
   "source": [
    "for i in range(1, 27):\n",
    "    filePath='text/p'+str(i)+'.txt'\n",
    "    with open(filePath,'r',encoding='utf-8') as f:\n",
    "        html_text=f.read()\n",
    "    html_soup=BeautifulSoup(html_text,'html.parser')\n",
    "    html_songlist=html_soup.find_all('li',class_='track')\n",
    "    for song in html_songlist:\n",
    "        dataId,dataLyricsId,link, linkPage,lyrics, title, time=getInfo(song)\n",
    "        dataIdList.append(dataId)\n",
    "        dataLyricsIdList.append(dataLyricsId)\n",
    "        linkList.append(link)\n",
    "        linkPageList.append(linkPage)\n",
    "        lyricsList.append(lyrics)\n",
    "        titleList.append(title)\n",
    "        timeList.append(time)"
   ]
  },
  {
   "cell_type": "markdown",
   "metadata": {},
   "source": [
    "Build & export the DataFrame."
   ]
  },
  {
   "cell_type": "code",
   "execution_count": 5,
   "metadata": {},
   "outputs": [],
   "source": [
    "data_raw=pd.DataFrame({'dataId':dataIdList,'dataLyricsId':dataLyricsIdList,'title':titleList,'lyrics':lyricsList,'link':linkList,'linkPage':linkPageList,'time':timeList})\n",
    "data_raw.to_csv('data_raw.csv',index=False,encoding='utf-8-sig')"
   ]
  },
  {
   "cell_type": "code",
   "execution_count": 6,
   "metadata": {},
   "outputs": [
    {
     "data": {
      "text/plain": [
       "1300"
      ]
     },
     "execution_count": 6,
     "metadata": {},
     "output_type": "execute_result"
    }
   ],
   "source": [
    "len(data_raw)"
   ]
  },
  {
   "cell_type": "code",
   "execution_count": 7,
   "metadata": {},
   "outputs": [
    {
     "data": {
      "text/plain": [
       "363"
      ]
     },
     "execution_count": 7,
     "metadata": {},
     "output_type": "execute_result"
    }
   ],
   "source": [
    "len(data_raw[data_raw['lyrics']!=''])"
   ]
  },
  {
   "cell_type": "code",
   "execution_count": 12,
   "metadata": {},
   "outputs": [
    {
     "data": {
      "text/plain": [
       "0"
      ]
     },
     "execution_count": 12,
     "metadata": {},
     "output_type": "execute_result"
    }
   ],
   "source": [
    "len(data_raw[(data_raw['lyrics']!='') & (data_raw['dataLyricsId']=='false')])"
   ]
  },
  {
   "cell_type": "code",
   "execution_count": null,
   "metadata": {},
   "outputs": [],
   "source": []
  }
 ],
 "metadata": {
  "kernelspec": {
   "display_name": "Python 3",
   "language": "python",
   "name": "python3"
  },
  "language_info": {
   "codemirror_mode": {
    "name": "ipython",
    "version": 3
   },
   "file_extension": ".py",
   "mimetype": "text/x-python",
   "name": "python",
   "nbconvert_exporter": "python",
   "pygments_lexer": "ipython3",
   "version": "3.11.5"
  }
 },
 "nbformat": 4,
 "nbformat_minor": 2
}
